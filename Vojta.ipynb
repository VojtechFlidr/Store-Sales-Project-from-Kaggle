{
 "cells": [
  {
   "cell_type": "code",
   "execution_count": 72,
   "metadata": {},
   "outputs": [],
   "source": [
    "import pandas as pd\n",
    "import seaborn as sns\n",
    "import matplotlib.pyplot as plt\n",
    "from sklearn.preprocessing import LabelEncoder\n",
    "\n",
    "df_oil = pd.read_csv('oil.csv')\n",
    "df_holidays_events = pd.read_csv('holidays_events.csv')\n",
    "df_sample_submission = pd.read_csv('sample_submission.csv')\n",
    "df_stores = pd.read_csv('stores.csv')\n",
    "df_test = pd.read_csv('test.csv')\n",
    "df_train = pd.read_csv('train.csv')\n",
    "df_transactions = pd.read_csv('transactions.csv')\n"
   ]
  },
  {
   "cell_type": "code",
   "execution_count": 3,
   "metadata": {},
   "outputs": [
    {
     "name": "stdout",
     "output_type": "stream",
     "text": [
      "           date  dcoilwtico\n",
      "0    2013-01-01         NaN\n",
      "1    2013-01-02       93.14\n",
      "2    2013-01-03       92.97\n",
      "3    2013-01-04       93.12\n",
      "4    2013-01-07       93.20\n",
      "..          ...         ...\n",
      "995  2016-10-25       49.45\n",
      "996  2016-10-26       48.75\n",
      "997  2016-10-27       49.71\n",
      "998  2016-10-28       48.72\n",
      "999  2016-10-31       46.83\n",
      "\n",
      "[1000 rows x 2 columns]\n"
     ]
    }
   ],
   "source": [
    "print(df_oil.head(1000))"
   ]
  },
  {
   "cell_type": "code",
   "execution_count": 4,
   "metadata": {},
   "outputs": [
    {
     "name": "stdout",
     "output_type": "stream",
     "text": [
      "         date     type    locale locale_name                    description  \\\n",
      "0  2012-03-02  Holiday     Local       Manta             Fundacion de Manta   \n",
      "1  2012-04-01  Holiday  Regional    Cotopaxi  Provincializacion de Cotopaxi   \n",
      "2  2012-04-12  Holiday     Local      Cuenca            Fundacion de Cuenca   \n",
      "3  2012-04-14  Holiday     Local    Libertad      Cantonizacion de Libertad   \n",
      "4  2012-04-21  Holiday     Local    Riobamba      Cantonizacion de Riobamba   \n",
      "\n",
      "   transferred  \n",
      "0        False  \n",
      "1        False  \n",
      "2        False  \n",
      "3        False  \n",
      "4        False  \n"
     ]
    }
   ],
   "source": [
    "print(df_holidays_events.head())"
   ]
  },
  {
   "cell_type": "code",
   "execution_count": 5,
   "metadata": {},
   "outputs": [
    {
     "name": "stdout",
     "output_type": "stream",
     "text": [
      "        id  sales\n",
      "0  3000888    0.0\n",
      "1  3000889    0.0\n",
      "2  3000890    0.0\n",
      "3  3000891    0.0\n",
      "4  3000892    0.0\n"
     ]
    }
   ],
   "source": [
    "print(df_sample_submission.head())"
   ]
  },
  {
   "cell_type": "code",
   "execution_count": 6,
   "metadata": {},
   "outputs": [
    {
     "name": "stdout",
     "output_type": "stream",
     "text": [
      "   store_nbr           city                           state type  cluster\n",
      "0          1          Quito                       Pichincha    D       13\n",
      "1          2          Quito                       Pichincha    D       13\n",
      "2          3          Quito                       Pichincha    D        8\n",
      "3          4          Quito                       Pichincha    D        9\n",
      "4          5  Santo Domingo  Santo Domingo de los Tsachilas    D        4\n"
     ]
    }
   ],
   "source": [
    "print(df_stores.head())"
   ]
  },
  {
   "cell_type": "code",
   "execution_count": 7,
   "metadata": {},
   "outputs": [
    {
     "name": "stdout",
     "output_type": "stream",
     "text": [
      "        id        date  store_nbr      family  onpromotion\n",
      "0  3000888  2017-08-16          1  AUTOMOTIVE            0\n",
      "1  3000889  2017-08-16          1   BABY CARE            0\n",
      "2  3000890  2017-08-16          1      BEAUTY            2\n",
      "3  3000891  2017-08-16          1   BEVERAGES           20\n",
      "4  3000892  2017-08-16          1       BOOKS            0\n"
     ]
    }
   ],
   "source": [
    "print(df_test.head())"
   ]
  },
  {
   "cell_type": "code",
   "execution_count": 33,
   "metadata": {},
   "outputs": [
    {
     "name": "stdout",
     "output_type": "stream",
     "text": [
      "   id        date  store_nbr      family  sales  onpromotion\n",
      "0   0  2013-01-01          1  AUTOMOTIVE    0.0            0\n",
      "1   1  2013-01-01          1   BABY CARE    0.0            0\n",
      "2   2  2013-01-01          1      BEAUTY    0.0            0\n",
      "3   3  2013-01-01          1   BEVERAGES    0.0            0\n",
      "4   4  2013-01-01          1       BOOKS    0.0            0\n"
     ]
    }
   ],
   "source": [
    "print(df_train.head())"
   ]
  },
  {
   "cell_type": "code",
   "execution_count": 9,
   "metadata": {},
   "outputs": [
    {
     "name": "stdout",
     "output_type": "stream",
     "text": [
      "         date  store_nbr  transactions\n",
      "0  2013-01-01         25           770\n",
      "1  2013-01-02          1          2111\n",
      "2  2013-01-02          2          2358\n",
      "3  2013-01-02          3          3487\n",
      "4  2013-01-02          4          1922\n"
     ]
    }
   ],
   "source": [
    "print(df_transactions.head())"
   ]
  },
  {
   "cell_type": "code",
   "execution_count": 82,
   "metadata": {},
   "outputs": [
    {
     "data": {
      "text/html": [
       "<div>\n",
       "<style scoped>\n",
       "    .dataframe tbody tr th:only-of-type {\n",
       "        vertical-align: middle;\n",
       "    }\n",
       "\n",
       "    .dataframe tbody tr th {\n",
       "        vertical-align: top;\n",
       "    }\n",
       "\n",
       "    .dataframe thead th {\n",
       "        text-align: right;\n",
       "    }\n",
       "</style>\n",
       "<table border=\"1\" class=\"dataframe\">\n",
       "  <thead>\n",
       "    <tr style=\"text-align: right;\">\n",
       "      <th></th>\n",
       "      <th>id</th>\n",
       "      <th>date</th>\n",
       "      <th>store_nbr</th>\n",
       "      <th>family</th>\n",
       "      <th>sales</th>\n",
       "      <th>onpromotion</th>\n",
       "      <th>family_enc</th>\n",
       "    </tr>\n",
       "  </thead>\n",
       "  <tbody>\n",
       "    <tr>\n",
       "      <th>0</th>\n",
       "      <td>0</td>\n",
       "      <td>2013-01-01</td>\n",
       "      <td>1</td>\n",
       "      <td>AUTOMOTIVE</td>\n",
       "      <td>0.0</td>\n",
       "      <td>0</td>\n",
       "      <td>0</td>\n",
       "    </tr>\n",
       "    <tr>\n",
       "      <th>1</th>\n",
       "      <td>1</td>\n",
       "      <td>2013-01-01</td>\n",
       "      <td>1</td>\n",
       "      <td>BABY CARE</td>\n",
       "      <td>0.0</td>\n",
       "      <td>0</td>\n",
       "      <td>1</td>\n",
       "    </tr>\n",
       "    <tr>\n",
       "      <th>2</th>\n",
       "      <td>2</td>\n",
       "      <td>2013-01-01</td>\n",
       "      <td>1</td>\n",
       "      <td>BEAUTY</td>\n",
       "      <td>0.0</td>\n",
       "      <td>0</td>\n",
       "      <td>2</td>\n",
       "    </tr>\n",
       "    <tr>\n",
       "      <th>3</th>\n",
       "      <td>3</td>\n",
       "      <td>2013-01-01</td>\n",
       "      <td>1</td>\n",
       "      <td>BEVERAGES</td>\n",
       "      <td>0.0</td>\n",
       "      <td>0</td>\n",
       "      <td>3</td>\n",
       "    </tr>\n",
       "    <tr>\n",
       "      <th>4</th>\n",
       "      <td>4</td>\n",
       "      <td>2013-01-01</td>\n",
       "      <td>1</td>\n",
       "      <td>BOOKS</td>\n",
       "      <td>0.0</td>\n",
       "      <td>0</td>\n",
       "      <td>4</td>\n",
       "    </tr>\n",
       "  </tbody>\n",
       "</table>\n",
       "</div>"
      ],
      "text/plain": [
       "   id        date  store_nbr      family  sales  onpromotion  family_enc\n",
       "0   0  2013-01-01          1  AUTOMOTIVE    0.0            0           0\n",
       "1   1  2013-01-01          1   BABY CARE    0.0            0           1\n",
       "2   2  2013-01-01          1      BEAUTY    0.0            0           2\n",
       "3   3  2013-01-01          1   BEVERAGES    0.0            0           3\n",
       "4   4  2013-01-01          1       BOOKS    0.0            0           4"
      ]
     },
     "execution_count": 82,
     "metadata": {},
     "output_type": "execute_result"
    }
   ],
   "source": [
    "# label encoding categorical variables\n",
    "le = LabelEncoder()\n",
    "df_holidays_events['type_enc'] = le.fit_transform(df_holidays_events['type'])\n",
    "df_holidays_events['locale_enc'] = le.fit_transform(df_holidays_events['locale'])\n",
    "df_holidays_events['locale_name_enc'] = le.fit_transform(df_holidays_events['locale_name'])\n",
    "df_holidays_events['description_enc'] = le.fit_transform(df_holidays_events['description'])\n",
    "df_holidays_events['transferred_enc'] = le.fit_transform(df_holidays_events['transferred'])\n",
    "\n",
    "df_stores['city_enc'] = le.fit_transform(df_stores['city'])\n",
    "df_stores['state_enc'] = le.fit_transform(df_stores['state'])\n",
    "df_stores['type_enc'] = le.fit_transform(df_stores['type'])\n",
    "\n",
    "df_test['family_enc'] = le.fit_transform(df_test['family'])\n",
    "df_train['family_enc'] = le.fit_transform(df_train['family'])\n",
    "\n",
    "df_train.head()"
   ]
  },
  {
   "cell_type": "code",
   "execution_count": 83,
   "metadata": {},
   "outputs": [
    {
     "name": "stdout",
     "output_type": "stream",
     "text": [
      "<class 'pandas.core.frame.DataFrame'>\n",
      "RangeIndex: 3000888 entries, 0 to 3000887\n",
      "Data columns (total 7 columns):\n",
      " #   Column       Dtype  \n",
      "---  ------       -----  \n",
      " 0   id           int64  \n",
      " 1   date         object \n",
      " 2   store_nbr    int64  \n",
      " 3   family       object \n",
      " 4   sales        float64\n",
      " 5   onpromotion  int64  \n",
      " 6   family_enc   int64  \n",
      "dtypes: float64(1), int64(4), object(2)\n",
      "memory usage: 160.3+ MB\n"
     ]
    }
   ],
   "source": [
    "df_train.info()"
   ]
  },
  {
   "cell_type": "code",
   "execution_count": 31,
   "metadata": {},
   "outputs": [
    {
     "data": {
      "text/html": [
       "<div>\n",
       "<style scoped>\n",
       "    .dataframe tbody tr th:only-of-type {\n",
       "        vertical-align: middle;\n",
       "    }\n",
       "\n",
       "    .dataframe tbody tr th {\n",
       "        vertical-align: top;\n",
       "    }\n",
       "\n",
       "    .dataframe thead th {\n",
       "        text-align: right;\n",
       "    }\n",
       "</style>\n",
       "<table border=\"1\" class=\"dataframe\">\n",
       "  <thead>\n",
       "    <tr style=\"text-align: right;\">\n",
       "      <th></th>\n",
       "      <th>locale_name</th>\n",
       "      <th>locale_name_enc</th>\n",
       "    </tr>\n",
       "  </thead>\n",
       "  <tbody>\n",
       "    <tr>\n",
       "      <th>16</th>\n",
       "      <td>Ambato</td>\n",
       "      <td>0</td>\n",
       "    </tr>\n",
       "    <tr>\n",
       "      <th>12</th>\n",
       "      <td>Cayambe</td>\n",
       "      <td>1</td>\n",
       "    </tr>\n",
       "    <tr>\n",
       "      <th>1</th>\n",
       "      <td>Cotopaxi</td>\n",
       "      <td>2</td>\n",
       "    </tr>\n",
       "    <tr>\n",
       "      <th>2</th>\n",
       "      <td>Cuenca</td>\n",
       "      <td>3</td>\n",
       "    </tr>\n",
       "    <tr>\n",
       "      <th>14</th>\n",
       "      <td>Ecuador</td>\n",
       "      <td>4</td>\n",
       "    </tr>\n",
       "  </tbody>\n",
       "</table>\n",
       "</div>"
      ],
      "text/plain": [
       "   locale_name  locale_name_enc\n",
       "16      Ambato                0\n",
       "12     Cayambe                1\n",
       "1     Cotopaxi                2\n",
       "2       Cuenca                3\n",
       "14     Ecuador                4"
      ]
     },
     "execution_count": 31,
     "metadata": {},
     "output_type": "execute_result"
    }
   ],
   "source": [
    "# extracting encoding labels for future reference\n",
    "type_labels = df_holidays_events[['type', 'type_enc']].drop_duplicates().sort_values('type_enc')\n",
    "locale_labels = df_holidays_events[['locale', 'locale_enc']].drop_duplicates().sort_values('locale_enc')\n",
    "locale_name_labels = df_holidays_events[['locale_name', 'locale_name_enc']].drop_duplicates().sort_values('locale_name_enc')\n",
    "description_labels = df_holidays_events[['description', 'description_enc']].drop_duplicates().sort_values('description_enc')\n",
    "transferred_labels = df_holidays_events[['transferred', 'transferred_enc']].drop_duplicates().sort_values('transferred_enc')\n",
    "locale_name_labels.head()"
   ]
  },
  {
   "cell_type": "code",
   "execution_count": 10,
   "metadata": {},
   "outputs": [],
   "source": [
    "df_oil['date'] = pd.to_datetime(df_oil['date'])\n",
    "df_holidays_events['date'] = pd.to_datetime(df_holidays_events['date'])\n",
    "df_test['date'] = pd.to_datetime(df_test['date'])\n",
    "# df_train['date'] = pd.to_datetime(df_train['date'])\n",
    "df_transactions['date'] = pd.to_datetime(df_transactions['date'])"
   ]
  },
  {
   "cell_type": "code",
   "execution_count": 61,
   "metadata": {},
   "outputs": [
    {
     "name": "stdout",
     "output_type": "stream",
     "text": [
      "date                 0\n",
      "dcoilwtico           0\n",
      "Prev_Amount         44\n",
      "Next_Amount         43\n",
      "Median_Prev_Next     0\n",
      "dtype: int64\n",
      "date               0\n",
      "type               0\n",
      "locale             0\n",
      "locale_name        0\n",
      "description        0\n",
      "transferred        0\n",
      "type_enc           0\n",
      "locale_enc         0\n",
      "locale_name_enc    0\n",
      "description_enc    0\n",
      "transferred_enc    0\n",
      "dtype: int64\n",
      "id       0\n",
      "sales    0\n",
      "dtype: int64\n",
      "store_nbr    0\n",
      "city         0\n",
      "state        0\n",
      "type         0\n",
      "cluster      0\n",
      "city_enc     0\n",
      "state_enc    0\n",
      "type_enc     0\n",
      "dtype: int64\n",
      "id             0\n",
      "date           0\n",
      "store_nbr      0\n",
      "family         0\n",
      "onpromotion    0\n",
      "family_enc     0\n",
      "dtype: int64\n",
      "id             0\n",
      "date           0\n",
      "store_nbr      0\n",
      "family         0\n",
      "sales          0\n",
      "onpromotion    0\n",
      "family_enc     0\n",
      "dtype: int64\n",
      "date            0\n",
      "store_nbr       0\n",
      "transactions    0\n",
      "dtype: int64\n"
     ]
    }
   ],
   "source": [
    "print(df_oil.isnull().sum())\n",
    "print(df_holidays_events.isnull().sum())\n",
    "print(df_sample_submission.isnull().sum())\n",
    "print(df_stores.isnull().sum())\n",
    "print(df_test.isnull().sum())\n",
    "print(df_train.isnull().sum())\n",
    "print(df_transactions.isnull().sum())"
   ]
  },
  {
   "cell_type": "code",
   "execution_count": 12,
   "metadata": {},
   "outputs": [
    {
     "data": {
      "image/png": "[encoded data removed]",
      "text/plain": [
       "<Figure size 640x480 with 1 Axes>"
      ]
     },
     "metadata": {},
     "output_type": "display_data"
    }
   ],
   "source": [
    "sns.histplot(df_oil[\"dcoilwtico\"], bins=30, kde=True, color='blue')\n",
    "plt.show()"
   ]
  },
  {
   "cell_type": "code",
   "execution_count": 13,
   "metadata": {},
   "outputs": [
    {
     "data": {
      "text/html": [
       "<div>\n",
       "<style scoped>\n",
       "    .dataframe tbody tr th:only-of-type {\n",
       "        vertical-align: middle;\n",
       "    }\n",
       "\n",
       "    .dataframe tbody tr th {\n",
       "        vertical-align: top;\n",
       "    }\n",
       "\n",
       "    .dataframe thead th {\n",
       "        text-align: right;\n",
       "    }\n",
       "</style>\n",
       "<table border=\"1\" class=\"dataframe\">\n",
       "  <thead>\n",
       "    <tr style=\"text-align: right;\">\n",
       "      <th></th>\n",
       "      <th>date</th>\n",
       "      <th>dcoilwtico</th>\n",
       "    </tr>\n",
       "  </thead>\n",
       "  <tbody>\n",
       "    <tr>\n",
       "      <th>0</th>\n",
       "      <td>2013-01-01</td>\n",
       "      <td>NaN</td>\n",
       "    </tr>\n",
       "    <tr>\n",
       "      <th>1</th>\n",
       "      <td>2013-01-02</td>\n",
       "      <td>93.14</td>\n",
       "    </tr>\n",
       "    <tr>\n",
       "      <th>2</th>\n",
       "      <td>2013-01-03</td>\n",
       "      <td>92.97</td>\n",
       "    </tr>\n",
       "    <tr>\n",
       "      <th>3</th>\n",
       "      <td>2013-01-04</td>\n",
       "      <td>93.12</td>\n",
       "    </tr>\n",
       "    <tr>\n",
       "      <th>4</th>\n",
       "      <td>2013-01-07</td>\n",
       "      <td>93.20</td>\n",
       "    </tr>\n",
       "  </tbody>\n",
       "</table>\n",
       "</div>"
      ],
      "text/plain": [
       "        date  dcoilwtico\n",
       "0 2013-01-01         NaN\n",
       "1 2013-01-02       93.14\n",
       "2 2013-01-03       92.97\n",
       "3 2013-01-04       93.12\n",
       "4 2013-01-07       93.20"
      ]
     },
     "execution_count": 13,
     "metadata": {},
     "output_type": "execute_result"
    }
   ],
   "source": [
    "df_oil.head()"
   ]
  },
  {
   "cell_type": "code",
   "execution_count": 46,
   "metadata": {},
   "outputs": [
    {
     "name": "stdout",
     "output_type": "stream",
     "text": [
      "            date  dcoilwtico\n",
      "0     2013-01-01       93.14\n",
      "1     2013-01-02       93.14\n",
      "2     2013-01-03       92.97\n",
      "3     2013-01-04       93.12\n",
      "4     2013-01-07       93.20\n",
      "...          ...         ...\n",
      "1213  2017-08-25       47.65\n",
      "1214  2017-08-28       46.40\n",
      "1215  2017-08-29       46.46\n",
      "1216  2017-08-30       45.96\n",
      "1217  2017-08-31       47.26\n",
      "\n",
      "[1218 rows x 2 columns]\n"
     ]
    }
   ],
   "source": [
    "import numpy as np\n",
    "import pandas as pd\n",
    "\n",
    "# Calculate median of preceding and following values\n",
    "df_oil['Prev_Amount'] = df_oil['dcoilwtico'].shift(1)\n",
    "df_oil['Next_Amount'] = df_oil['dcoilwtico'].shift(-1)\n",
    "\n",
    "# Calculate the median\n",
    "df_oil['Median_Prev_Next'] = df_oil[['Prev_Amount', 'Next_Amount']].median(axis=1)\n",
    "\n",
    "# Fill null values in 'Amount' column with the calculated medians\n",
    "df_oil['dcoilwtico'] = df_oil['dcoilwtico'].fillna(df_oil['Median_Prev_Next'])\n",
    "\n",
    "# Drop unnecessary columns\n",
    "df_oill = df_oil.drop(['Prev_Amount', 'Next_Amount', 'Median_Prev_Next'], axis=1)\n",
    "\n",
    "# Display the DataFrame\n",
    "print(df_oill)\n"
   ]
  },
  {
   "cell_type": "code",
   "execution_count": 84,
   "metadata": {},
   "outputs": [],
   "source": [
    "# Merge df_oil and df_holidays_events on 'date' with df_train\n",
    "merged_table1 = pd.merge(df_train, df_oil, on='date', how='left')\n",
    "merged_table2 = pd.merge(merged_table1, df_holidays_events, on='date', how='left')\n",
    "\n",
    "# Merge with df_transactions on 'date' with df_train\n",
    "merged_table3 = pd.merge(merged_table2, df_transactions, on='date', how='left')\n",
    "\n",
    "# # Merge with df_stores on 'date' with df_train\n",
    "# merged_table4 = pd.merge(merged_table3, df_stores, on='store_nbr', how='left')\n",
    "\n",
    "# # Merge df_test with df_train on 'date'\n",
    "# merged_table5 = pd.merge(df_test, df_train, on='date', how='left')\n",
    "\n",
    "# # Merge the result with df_sample_submission on 'id'\n",
    "# final_merged_table = pd.merge(merged_table4, merged_table5, on='id', how='left')\n",
    "\n",
    "# Display the first few rows of the final merged table\n",
    "print(merged_table3)\n",
    "# num_records = merged_table2.shape[0]\n",
    "# print(\"Number of records in the final merged table:\", num_records)\n"
   ]
  },
  {
   "cell_type": "code",
   "execution_count": 63,
   "metadata": {},
   "outputs": [
    {
     "name": "stdout",
     "output_type": "stream",
     "text": [
      "df_oil columns: Index(['date', 'dcoilwtico', 'Prev_Amount', 'Next_Amount', 'Median_Prev_Next'], dtype='object')\n",
      "df_holidays_events columns: Index(['date', 'type', 'locale', 'locale_name', 'description', 'transferred',\n",
      "       'type_enc', 'locale_enc', 'locale_name_enc', 'description_enc',\n",
      "       'transferred_enc'],\n",
      "      dtype='object')\n",
      "df_sample_submission columns: Index(['id', 'sales'], dtype='object')\n",
      "df_stores columns: Index(['store_nbr', 'city', 'state', 'type', 'cluster', 'city_enc',\n",
      "       'state_enc', 'type_enc'],\n",
      "      dtype='object')\n",
      "df_test columns: Index(['id', 'date', 'store_nbr', 'family', 'onpromotion', 'family_enc'], dtype='object')\n",
      "df_train columns: Index(['id', 'date', 'store_nbr', 'family', 'sales', 'onpromotion',\n",
      "       'family_enc'],\n",
      "      dtype='object')\n",
      "df_transactions columns: Index(['date', 'store_nbr', 'transactions'], dtype='object')\n"
     ]
    }
   ],
   "source": [
    "print(\"df_oil columns:\", df_oil.columns)\n",
    "print(\"df_holidays_events columns:\", df_holidays_events.columns)\n",
    "print(\"df_sample_submission columns:\", df_sample_submission.columns)\n",
    "print(\"df_stores columns:\", df_stores.columns)\n",
    "print(\"df_test columns:\", df_test.columns)\n",
    "print(\"df_train columns:\", df_train.columns)\n",
    "print(\"df_transactions columns:\", df_transactions.columns)\n"
   ]
  },
  {
   "cell_type": "code",
   "execution_count": 15,
   "metadata": {},
   "outputs": [
    {
     "data": {
      "image/png": "[encoded data removed]",
      "text/plain": [
       "<Figure size 1000x600 with 1 Axes>"
      ]
     },
     "metadata": {},
     "output_type": "display_data"
    }
   ],
   "source": [
    "# Plotting the data\n",
    "plt.figure(figsize=(10, 6))\n",
    "plt.plot(df_oil['date'], df_oil['dcoilwtico'], marker='o', linestyle='-')\n",
    "plt.title('Oil Prices Over Time')\n",
    "plt.xlabel('Date')\n",
    "plt.ylabel('Oil Price')\n",
    "plt.grid(True)\n",
    "plt.show()"
   ]
  },
  {
   "cell_type": "code",
   "execution_count": 16,
   "metadata": {},
   "outputs": [
    {
     "ename": "NameError",
     "evalue": "name 'train_test_split' is not defined",
     "output_type": "error",
     "traceback": [
      "\u001b[0;31m---------------------------------------------------------------------------\u001b[0m",
      "\u001b[0;31mNameError\u001b[0m                                 Traceback (most recent call last)",
      "Cell \u001b[0;32mIn [16], line 2\u001b[0m\n\u001b[1;32m      1\u001b[0m \u001b[38;5;66;03m# performing train-test split and scaling\u001b[39;00m\n\u001b[0;32m----> 2\u001b[0m X_train, X_test, y_train, y_test \u001b[38;5;241m=\u001b[39m \u001b[43mtrain_test_split\u001b[49m(X, y, test_size\u001b[38;5;241m=\u001b[39m\u001b[38;5;241m0.3\u001b[39m, random_state\u001b[38;5;241m=\u001b[39m\u001b[38;5;241m42\u001b[39m)\n\u001b[1;32m      4\u001b[0m scaler \u001b[38;5;241m=\u001b[39m StandardScaler()\n\u001b[1;32m      5\u001b[0m scaler\u001b[38;5;241m.\u001b[39mfit(X_train)\n",
      "\u001b[0;31mNameError\u001b[0m: name 'train_test_split' is not defined"
     ]
    }
   ],
   "source": [
    "# performing train-test split and scaling\n",
    "X_train, X_test, y_train, y_test = train_test_split(X, y, test_size=0.3, random_state=42)\n",
    "\n",
    "scaler = StandardScaler()\n",
    "scaler.fit(X_train)\n",
    "\n",
    "X_train_sc = scaler.transform(X_train)\n",
    "X_test_sc = scaler.transform(X_test)"
   ]
  }
 ],
 "metadata": {
  "kernelspec": {
   "display_name": "myenv",
   "language": "python",
   "name": "python3"
  },
  "language_info": {
   "codemirror_mode": {
    "name": "ipython",
    "version": 3
   },
   "file_extension": ".py",
   "mimetype": "text/x-python",
   "name": "python",
   "nbconvert_exporter": "python",
   "pygments_lexer": "ipython3",
   "version": "3.10.8"
  }
 },
 "nbformat": 4,
 "nbformat_minor": 2
}
